{
 "cells": [
  {
   "cell_type": "code",
   "execution_count": 1,
   "metadata": {},
   "outputs": [],
   "source": [
    "import random"
   ]
  },
  {
   "cell_type": "code",
   "execution_count": 4,
   "metadata": {},
   "outputs": [
    {
     "name": "stdout",
     "output_type": "stream",
     "text": [
      "Guess a random number between 1 and 20: 15\n",
      "Oops! You went too high\n",
      "Guess a random number between 1 and 20: 12\n",
      "Oops! You went too low\n",
      "Guess a random number between 1 and 20: 14\n",
      "Congrats! You hit the jackpot! You got the right number\n",
      "Is 15 too high (H) , too low (L) , or correct (C)?h\n",
      "press L , H , C to confirm your number\n",
      "Is 3 too high (H) , too low (L) , or correct (C)?l\n",
      "press L , H , C to confirm your number\n",
      "Is 8 too high (H) , too low (L) , or correct (C)?l\n",
      "press L , H , C to confirm your number\n",
      "Is 12 too high (H) , too low (L) , or correct (C)?l\n",
      "press L , H , C to confirm your number\n",
      "Is 14 too high (H) , too low (L) , or correct (C)?c\n",
      "Congrats! Got your number 14\n"
     ]
    }
   ],
   "source": [
    "def guess(x):\n",
    "    random_number = random.randint(1 , x)\n",
    "    guess=0\n",
    "    while(guess != random_number):\n",
    "        guess = int(input (f'Guess a random number between 1 and {x}: '))\n",
    "        if(guess > random_number):\n",
    "            print(\"Oops! You went too high\")\n",
    "        if(guess < random_number):\n",
    "            print(\"Oops! You went too low\")\n",
    "    print(\"Congrats! You hit the jackpot! You got the right number\")\n",
    "       \n",
    "def computer_guess(x):\n",
    "    low = 1\n",
    "    high = x\n",
    "    feedback = ''\n",
    "    while feedback != 'C':\n",
    "        guess = random.randint(low , high)\n",
    "        feedback = input(f'Is {guess} too high (H) , too low (L) , or correct (C)?').lower()\n",
    "        if feedback == 'h':\n",
    "            high = guess - 1\n",
    "        if feedback == 'l':\n",
    "            low = guess + 1\n",
    "        if feedback == 'c':\n",
    "            print(f'Congrats! Got your number {guess}')\n",
    "            break\n",
    "        else:\n",
    "            print(\"press L , H , C to confirm your number\")\n",
    "    \n",
    "guess(20)\n",
    "computer_guess(20)"
   ]
  },
  {
   "cell_type": "code",
   "execution_count": null,
   "metadata": {},
   "outputs": [],
   "source": []
  }
 ],
 "metadata": {
  "kernelspec": {
   "display_name": "Python 3",
   "language": "python",
   "name": "python3"
  },
  "language_info": {
   "codemirror_mode": {
    "name": "ipython",
    "version": 3
   },
   "file_extension": ".py",
   "mimetype": "text/x-python",
   "name": "python",
   "nbconvert_exporter": "python",
   "pygments_lexer": "ipython3",
   "version": "3.7.6"
  }
 },
 "nbformat": 4,
 "nbformat_minor": 4
}
